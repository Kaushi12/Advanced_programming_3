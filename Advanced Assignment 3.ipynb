{
 "cells": [
  {
   "cell_type": "code",
   "execution_count": 10,
   "id": "0a64bbb7",
   "metadata": {},
   "outputs": [],
   "source": [
    "def arthimetic_operation(st):\n",
    "    l=st.split(' ')\n",
    "    l[0]=int(l[0])\n",
    "    l[2]=int(l[2])\n",
    "    if l[1]=='+':\n",
    "        return l[0]+l[2]\n",
    "    elif l[1]=='-':\n",
    "        return l[0]-l[2]\n",
    "    elif l[1]=='*':\n",
    "        return l[0]*l[2]\n",
    "    elif l[1]=='/':\n",
    "        if l[2]==0:\n",
    "            return -1\n",
    "        else:\n",
    "            return l[0]/l[2]\n",
    "            \n",
    "        \n",
    "        \n",
    "            \n",
    "        \n",
    "    "
   ]
  },
  {
   "cell_type": "code",
   "execution_count": 11,
   "id": "cd59721d",
   "metadata": {},
   "outputs": [
    {
     "data": {
      "text/plain": [
       "-1"
      ]
     },
     "execution_count": 11,
     "metadata": {},
     "output_type": "execute_result"
    }
   ],
   "source": [
    "arthimetic_operation(\"12 / 0\")"
   ]
  },
  {
   "cell_type": "code",
   "execution_count": 5,
   "id": "e7d69925",
   "metadata": {},
   "outputs": [],
   "source": [
    "import math\n",
    "def perimeter(li):\n",
    "    AB=math.sqrt((li[1][0]-li[0][0])**2+(li[1][1]-li[0][1])**2)\n",
    "    BC=math.sqrt((li[2][0]-li[1][0])**2+(li[2][1]-li[1][1])**2)\n",
    "    CA=math.sqrt((li[2][0]-li[0][0])**2+(li[2][1]-li[0][1])**2)\n",
    "    return '{:.2f}'.format(AB+BC+CA)"
   ]
  },
  {
   "cell_type": "code",
   "execution_count": 6,
   "id": "ef40a9af",
   "metadata": {},
   "outputs": [
    {
     "data": {
      "text/plain": [
       "'47.08'"
      ]
     },
     "execution_count": 6,
     "metadata": {},
     "output_type": "execute_result"
    }
   ],
   "source": [
    "perimeter([[15,7],[5,22],[11,1]])"
   ]
  },
  {
   "cell_type": "code",
   "execution_count": 15,
   "id": "7700d274",
   "metadata": {},
   "outputs": [],
   "source": [
    "def bonus(num):\n",
    "    if num<=32:\n",
    "        bonus_re=0*num\n",
    "    elif 32<num<41:\n",
    "        bonus_re=0*num+325*(num-32)\n",
    "    elif 41<=num<48:\n",
    "        bonus_re=0*num+325*(8)+550*(num-40)\n",
    "    elif num>48:\n",
    "        bonus_re=0*num+325*(8)+550*(8)+600*(num-48)\n",
    "    return bonus_re\n",
    "    \n",
    "        \n",
    "    "
   ]
  },
  {
   "cell_type": "code",
   "execution_count": 17,
   "id": "9b344461",
   "metadata": {},
   "outputs": [
    {
     "data": {
      "text/plain": [
       "8200"
      ]
     },
     "execution_count": 17,
     "metadata": {},
     "output_type": "execute_result"
    }
   ],
   "source": [
    "bonus(50)"
   ]
  },
  {
   "cell_type": "code",
   "execution_count": 38,
   "id": "14399279",
   "metadata": {},
   "outputs": [],
   "source": [
    "def is_disarium(number):\n",
    "    temp=number\n",
    "    y=str(number)\n",
    "    l=len(y)\n",
    "    add=0\n",
    "    while temp!=0:\n",
    "        x=temp%10\n",
    "        add=add+pow(x,l)\n",
    "        l=l-1\n",
    "        temp=temp//10\n",
    "    if add==number:\n",
    "        return True\n",
    "    else:\n",
    "        return False\n",
    "        "
   ]
  },
  {
   "cell_type": "code",
   "execution_count": 40,
   "id": "381bc846",
   "metadata": {},
   "outputs": [
    {
     "data": {
      "text/plain": [
       "True"
      ]
     },
     "execution_count": 40,
     "metadata": {},
     "output_type": "execute_result"
    }
   ],
   "source": [
    "is_disarium(135)"
   ]
  },
  {
   "cell_type": "code",
   "execution_count": 3,
   "id": "05ed15e6",
   "metadata": {},
   "outputs": [],
   "source": [
    "def tallest_skyscraper(arr):\n",
    "    ans=0\n",
    "    for j in range(len(arr[0])):\n",
    "        c=0\n",
    "        for i in range(len(arr)):\n",
    "            if arr[i][j]==1:\n",
    "                c+=1\n",
    "        ans=max(ans,c)\n",
    "    return ans"
   ]
  },
  {
   "cell_type": "code",
   "execution_count": 4,
   "id": "a4757dda",
   "metadata": {},
   "outputs": [
    {
     "data": {
      "text/plain": [
       "4"
      ]
     },
     "execution_count": 4,
     "metadata": {},
     "output_type": "execute_result"
    }
   ],
   "source": [
    "tallest_skyscraper([\n",
    "[0, 1, 0, 0],\n",
    "[0, 1, 0, 0],\n",
    "[0, 1, 1, 0],\n",
    "[1, 1, 1, 1]\n",
    "])"
   ]
  },
  {
   "cell_type": "code",
   "execution_count": null,
   "id": "d8d5d071",
   "metadata": {},
   "outputs": [],
   "source": []
  }
 ],
 "metadata": {
  "kernelspec": {
   "display_name": "Python 3",
   "language": "python",
   "name": "python3"
  },
  "language_info": {
   "codemirror_mode": {
    "name": "ipython",
    "version": 3
   },
   "file_extension": ".py",
   "mimetype": "text/x-python",
   "name": "python",
   "nbconvert_exporter": "python",
   "pygments_lexer": "ipython3",
   "version": "3.8.8"
  }
 },
 "nbformat": 4,
 "nbformat_minor": 5
}
